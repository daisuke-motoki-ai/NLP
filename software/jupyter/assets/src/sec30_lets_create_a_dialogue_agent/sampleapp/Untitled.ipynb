{
 "cells": [
  {
   "cell_type": "code",
   "execution_count": 3,
   "metadata": {},
   "outputs": [
    {
     "name": "stdout",
     "output_type": "stream",
     "text": [
      "私は〇〇といいます\n",
      "^C\n",
      "Traceback (most recent call last):\n",
      "  File \"dialogue_agent.py\", line 59, in <module>\n",
      "    input_text = input()\n",
      "KeyboardInterrupt\n"
     ]
    }
   ],
   "source": [
    "!python dialogue_agent.py"
   ]
  },
  {
   "cell_type": "code",
   "execution_count": 4,
   "metadata": {},
   "outputs": [
    {
     "name": "stdout",
     "output_type": "stream",
     "text": [
      "from os.path import dirname, join, normpath\r\n",
      "\r\n",
      "import MeCab\r\n",
      "import pandas as pd\r\n",
      "from sklearn.feature_extraction.text import CountVectorizer\r\n",
      "from sklearn.svm import SVC\r\n",
      "\r\n",
      "\r\n",
      "class DialogueAgent:\r\n",
      "    def __init__(self):\r\n",
      "        self.tagger = MeCab.Tagger()\r\n",
      "\r\n",
      "    def _tokenize(self, text):\r\n",
      "        node = self.tagger.parseToNode(text)\r\n",
      "\r\n",
      "        tokens = []\r\n",
      "        while node:\r\n",
      "            if node.surface != '':\r\n",
      "                tokens.append(node.surface)\r\n",
      "\r\n",
      "            node = node.next\r\n",
      "\r\n",
      "        return tokens\r\n",
      "\r\n",
      "    def train(self, texts, labels):\r\n",
      "        vectorizer = CountVectorizer(tokenizer=self._tokenize)\r\n",
      "        bow = vectorizer.fit_transform(texts)  # <1>\r\n",
      "\r\n",
      "        classifier = SVC()\r\n",
      "        classifier.fit(bow, labels)\r\n",
      "\r\n",
      "        # <2>\r\n",
      "        self.vectorizer = vectorizer\r\n",
      "        self.classifier = classifier\r\n",
      "\r\n",
      "    def predict(self, texts):\r\n",
      "        bow = self.vectorizer.transform(texts)\r\n",
      "        return self.classifier.predict(bow)\r\n",
      "\r\n",
      "\r\n",
      "if __name__ == '__main__':\r\n",
      "    BASE_DIR = normpath(dirname(__file__))\r\n",
      "\r\n",
      "    training_data = pd.read_csv(join(BASE_DIR, './training_data.csv'))  # <3>\r\n",
      "\r\n",
      "    dialogue_agent = DialogueAgent()\r\n",
      "    dialogue_agent.train(training_data['text'], training_data['label'])\r\n",
      "\r\n",
      "    with open(join(BASE_DIR, './replies.csv')) as f:  # <4>\r\n",
      "        replies = f.read().split('\\n')\r\n",
      "\r\n",
      "    input_text = '名前を教えてよ'\r\n",
      "    predictions = dialogue_agent.predict([input_text])  # <5>\r\n",
      "    predicted_class_id = predictions[0]  # <6>\r\n",
      "\r\n",
      "    print(replies[predicted_class_id])\r\n",
      "\r\n",
      "    while True:\r\n",
      "        input_text = input()\r\n",
      "        predictions = dialogue_agent.predict([input_text])\r\n",
      "        predicted_class_id = predictions[0]\r\n",
      "\r\n",
      "        print(replies[predicted_class_id])\r\n"
     ]
    }
   ],
   "source": [
    "!cat dialogue_agent.py"
   ]
  },
  {
   "cell_type": "code",
   "execution_count": null,
   "metadata": {},
   "outputs": [],
   "source": []
  }
 ],
 "metadata": {
  "kernelspec": {
   "display_name": "Python 3",
   "language": "python",
   "name": "python3"
  },
  "language_info": {
   "codemirror_mode": {
    "name": "ipython",
    "version": 3
   },
   "file_extension": ".py",
   "mimetype": "text/x-python",
   "name": "python",
   "nbconvert_exporter": "python",
   "pygments_lexer": "ipython3",
   "version": "3.7.6"
  },
  "toc": {
   "base_numbering": 1,
   "nav_menu": {},
   "number_sections": true,
   "sideBar": true,
   "skip_h1_title": false,
   "title_cell": "Table of Contents",
   "title_sidebar": "Contents",
   "toc_cell": false,
   "toc_position": {},
   "toc_section_display": true,
   "toc_window_display": false
  }
 },
 "nbformat": 4,
 "nbformat_minor": 4
}
