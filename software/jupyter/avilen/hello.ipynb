{
 "cells": [
  {
   "cell_type": "code",
   "execution_count": null,
   "metadata": {
    "scrolled": false
   },
   "outputs": [],
   "source": [
    "!pip install flask==1.1.1"
   ]
  },
  {
   "cell_type": "code",
   "execution_count": null,
   "metadata": {
    "scrolled": false
   },
   "outputs": [
    {
     "name": "stdout",
     "output_type": "stream",
     "text": [
      " * Serving Flask app \"__main__\" (lazy loading)\n",
      " * Environment: production\n",
      "   WARNING: This is a development server. Do not use it in a production deployment.\n",
      "   Use a production WSGI server instead.\n",
      " * Debug mode: off\n"
     ]
    },
    {
     "name": "stderr",
     "output_type": "stream",
     "text": [
      " * Running on http://127.0.0.1:5000/ (Press CTRL+C to quit)\n"
     ]
    }
   ],
   "source": [
    "# Flaskをインポート\n",
    "from flask import Flask, Response\n",
    "\n",
    "# Flaskのインスタンスを作成。\n",
    "# Flaskで使用できる機能を使用できるようにする。\n",
    "app = Flask(__name__)\n",
    "\n",
    "# ファンクションを起動するURIをFlaskに指定\n",
    "@app.route(\"/hello\")\n",
    "\n",
    "# URIが指定された際に実行されるファンクションを指定\n",
    "def hello():\n",
    "    \n",
    "    # Responseで引数をtext形式で返す。(mimetypeを指定しないとhtml形式で返される)\n",
    "    return Response(\"Hello World!\", mimetype=\"text/plain\")\n",
    "\n",
    "#　ローカルサーバーでアプリケーションを実行\n",
    "app.run()\n",
    "# app.run(debug=False, host='0.0.0.0', port=5000)\n",
    "#app.run(host='0.0.0.0', port=5000) # docker利用をするためには、外部接続するためにhost='0.0.0.0'が必要でportは5000番を空けておくこと。"
   ]
  },
  {
   "cell_type": "markdown",
   "metadata": {},
   "source": [
    "http://127.0.0.1:5000/hello"
   ]
  },
  {
   "cell_type": "code",
   "execution_count": null,
   "metadata": {},
   "outputs": [],
   "source": []
  }
 ],
 "metadata": {
  "kernelspec": {
   "display_name": "Python 3",
   "language": "python",
   "name": "python3"
  },
  "language_info": {
   "codemirror_mode": {
    "name": "ipython",
    "version": 3
   },
   "file_extension": ".py",
   "mimetype": "text/x-python",
   "name": "python",
   "nbconvert_exporter": "python",
   "pygments_lexer": "ipython3",
   "version": "3.7.6"
  },
  "toc": {
   "base_numbering": 1,
   "nav_menu": {},
   "number_sections": true,
   "sideBar": true,
   "skip_h1_title": false,
   "title_cell": "Table of Contents",
   "title_sidebar": "Contents",
   "toc_cell": false,
   "toc_position": {},
   "toc_section_display": true,
   "toc_window_display": false
  }
 },
 "nbformat": 4,
 "nbformat_minor": 2
}
