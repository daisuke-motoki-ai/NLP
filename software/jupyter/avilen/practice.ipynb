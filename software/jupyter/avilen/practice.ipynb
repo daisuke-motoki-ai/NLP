{
 "cells": [
  {
   "cell_type": "markdown",
   "metadata": {},
   "source": [
    "# 演習問題1"
   ]
  },
  {
   "cell_type": "code",
   "execution_count": 9,
   "metadata": {},
   "outputs": [
    {
     "name": "stdout",
     "output_type": "stream",
     "text": [
      " * Serving Flask app \"__main__\" (lazy loading)\n",
      " * Environment: production\n",
      "   WARNING: This is a development server. Do not use it in a production deployment.\n",
      "   Use a production WSGI server instead.\n",
      " * Debug mode: off\n"
     ]
    },
    {
     "name": "stderr",
     "output_type": "stream",
     "text": [
      " * Running on http://0.0.0.0:5000/ (Press CTRL+C to quit)\n",
      "172.21.0.1 - - [15/Dec/2019 01:34:30] \"GET /practice1 HTTP/1.1\" 200 -\n"
     ]
    }
   ],
   "source": [
    "from flask import Flask, Response\n",
    "import datetime\n",
    "\n",
    "app = Flask(__name__)\n",
    "\n",
    "@app.route(\"/practice1\",methods=[\"GET\"])\n",
    "def today():\n",
    "    todaydetail = datetime.date.today()\n",
    "    return Response(str(todaydetail), mimetype=\"text/plain\")\n",
    "\n",
    "#app.run()\n",
    "app.run(host='0.0.0.0', port=5000) # docker利用をするためには、外部接続するためにhost='0.0.0.0'が必要でportは5000番を空けておくこと。"
   ]
  },
  {
   "cell_type": "raw",
   "metadata": {},
   "source": [
    "http://127.0.0.1:5000/practice1"
   ]
  },
  {
   "cell_type": "markdown",
   "metadata": {},
   "source": [
    "# 練習問題2"
   ]
  },
  {
   "cell_type": "code",
   "execution_count": 7,
   "metadata": {},
   "outputs": [
    {
     "name": "stdout",
     "output_type": "stream",
     "text": [
      " * Serving Flask app \"__main__\" (lazy loading)\n",
      " * Environment: production\n",
      "   WARNING: This is a development server. Do not use it in a production deployment.\n",
      "   Use a production WSGI server instead.\n",
      " * Debug mode: off\n"
     ]
    },
    {
     "name": "stderr",
     "output_type": "stream",
     "text": [
      " * Running on http://0.0.0.0:5000/ (Press CTRL+C to quit)\n",
      "172.21.0.1 - - [14/Dec/2019 16:36:58] \"GET /practice2?last=taro&first=sato HTTP/1.1\" 200 -\n"
     ]
    }
   ],
   "source": [
    "from flask import Flask, jsonify, request\n",
    "\n",
    "app = Flask(__name__)\n",
    "\n",
    "@app.route(\"/practice2\",methods=[\"GET\"])\n",
    "def get_json():\n",
    "    last_name = request.args.get(\"last\")\n",
    "    first_name = request.args.get(\"first\")\n",
    "    result = {\n",
    "            \"user_name\":{\n",
    "                \"first_name\":first_name,\n",
    "                \"last_name\":last_name\n",
    "                }\n",
    "            }\n",
    "    return jsonify(result)\n",
    "\n",
    "app.run(host='0.0.0.0', port=5000) "
   ]
  },
  {
   "cell_type": "markdown",
   "metadata": {},
   "source": [
    "http://127.0.0.1:5000/practice2?last=taro&first=sato"
   ]
  },
  {
   "cell_type": "markdown",
   "metadata": {},
   "source": [
    "# 練習問題3"
   ]
  },
  {
   "cell_type": "code",
   "execution_count": 12,
   "metadata": {},
   "outputs": [
    {
     "name": "stdout",
     "output_type": "stream",
     "text": [
      " * Serving Flask app \"__main__\" (lazy loading)\n",
      " * Environment: production\n",
      "   WARNING: This is a development server. Do not use it in a production deployment.\n",
      "   Use a production WSGI server instead.\n",
      " * Debug mode: off\n"
     ]
    },
    {
     "name": "stderr",
     "output_type": "stream",
     "text": [
      " * Running on http://0.0.0.0:5000/ (Press CTRL+C to quit)\n",
      "172.21.0.1 - - [15/Dec/2019 02:38:52] \"GET /practice3 HTTP/1.1\" 405 -\n",
      "[2019-12-15 02:38:57,825] ERROR in app: Exception on /practice3 [POST]\n",
      "Traceback (most recent call last):\n",
      "  File \"/opt/conda/lib/python3.7/site-packages/flask/app.py\", line 2446, in wsgi_app\n",
      "    response = self.full_dispatch_request()\n",
      "  File \"/opt/conda/lib/python3.7/site-packages/flask/app.py\", line 1951, in full_dispatch_request\n",
      "    rv = self.handle_user_exception(e)\n",
      "  File \"/opt/conda/lib/python3.7/site-packages/flask/app.py\", line 1820, in handle_user_exception\n",
      "    reraise(exc_type, exc_value, tb)\n",
      "  File \"/opt/conda/lib/python3.7/site-packages/flask/_compat.py\", line 39, in reraise\n",
      "    raise value\n",
      "  File \"/opt/conda/lib/python3.7/site-packages/flask/app.py\", line 1949, in full_dispatch_request\n",
      "    rv = self.dispatch_request()\n",
      "  File \"/opt/conda/lib/python3.7/site-packages/flask/app.py\", line 1935, in dispatch_request\n",
      "    return self.view_functions[rule.endpoint](**req.view_args)\n",
      "  File \"<ipython-input-12-e331cf82605c>\", line 8, in practice3\n",
      "    buf_id = buf[\"id\"]\n",
      "TypeError: 'NoneType' object is not subscriptable\n",
      "172.21.0.1 - - [15/Dec/2019 02:38:57] \"POST /practice3 HTTP/1.1\" 500 -\n",
      "172.21.0.1 - - [15/Dec/2019 02:39:05] \"POST /practice3 HTTP/1.1\" 200 -\n",
      "172.21.0.1 - - [15/Dec/2019 02:40:26] \"GET /practice3 HTTP/1.1\" 405 -\n"
     ]
    }
   ],
   "source": [
    "from flask import Flask, jsonify, request\n",
    "\n",
    "app = Flask(__name__)\n",
    "\n",
    "@app.route(\"/practice3\",methods=[\"POST\"])\n",
    "def practice3():\n",
    "    buf = request.get_json()\n",
    "    buf_id = buf[\"id\"]\n",
    "    result = { \"id\":buf_id,\"BMI\":buf[\"weight\"]/((buf[\"height\"]/100)**2) }\n",
    "    return jsonify(result)\n",
    "\n",
    "app.run(host='0.0.0.0', port=5000) "
   ]
  },
  {
   "cell_type": "markdown",
   "metadata": {},
   "source": [
    "http://127.0.0.1:5000/practice3\n",
    "{\"id\":1,\"height\":170,\"weight\":50} "
   ]
  },
  {
   "cell_type": "markdown",
   "metadata": {},
   "source": [
    "answer:\n",
    "    {\n",
    "    \"BMI\": 17.301038062283737,\n",
    "    \"id\": 1\n",
    "}"
   ]
  }
 ],
 "metadata": {
  "kernelspec": {
   "display_name": "Python 3",
   "language": "python",
   "name": "python3"
  },
  "language_info": {
   "codemirror_mode": {
    "name": "ipython",
    "version": 3
   },
   "file_extension": ".py",
   "mimetype": "text/x-python",
   "name": "python",
   "nbconvert_exporter": "python",
   "pygments_lexer": "ipython3",
   "version": "3.7.3"
  },
  "toc": {
   "base_numbering": 1,
   "nav_menu": {},
   "number_sections": true,
   "sideBar": true,
   "skip_h1_title": false,
   "title_cell": "Table of Contents",
   "title_sidebar": "Contents",
   "toc_cell": false,
   "toc_position": {},
   "toc_section_display": true,
   "toc_window_display": false
  }
 },
 "nbformat": 4,
 "nbformat_minor": 2
}
