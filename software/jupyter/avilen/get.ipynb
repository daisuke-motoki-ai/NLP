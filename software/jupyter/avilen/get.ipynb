{
 "cells": [
  {
   "cell_type": "markdown",
   "metadata": {
    "colab_type": "text",
    "id": "5e7lOno3x_cH"
   },
   "source": [
    "# GETで値を送信する"
   ]
  },
  {
   "cell_type": "code",
   "execution_count": 2,
   "metadata": {
    "colab": {},
    "colab_type": "code",
    "id": "aMHHvQi7x_cJ",
    "scrolled": true
   },
   "outputs": [
    {
     "name": "stdout",
     "output_type": "stream",
     "text": [
      " * Serving Flask app \"__main__\" (lazy loading)\n",
      " * Environment: production\n",
      "   WARNING: This is a development server. Do not use it in a production deployment.\n",
      "   Use a production WSGI server instead.\n",
      " * Debug mode: off\n"
     ]
    },
    {
     "name": "stderr",
     "output_type": "stream",
     "text": [
      " * Running on http://0.0.0.0:5000/ (Press CTRL+C to quit)\n",
      "172.18.0.1 - - [14/Feb/2020 10:53:55] \"\u001b[37mGET /getter?name=avilen HTTP/1.1\u001b[0m\" 200 -\n"
     ]
    }
   ],
   "source": [
    "from flask import Flask, Response, request\n",
    "\n",
    "app = Flask(__name__)\n",
    "\n",
    "# リクエスト方法をGETで指定する\n",
    "@app.route('/getter', methods=['GET'])\n",
    "def getter():\n",
    "    \n",
    "    # request.args.getで指定した引数を取得\n",
    "    name = request.args.get(\"name\")\n",
    "    return Response(name, mimetype=\"text/plain\")\n",
    "\n",
    "app.run(host='0.0.0.0', port=5000) "
   ]
  },
  {
   "cell_type": "markdown",
   "metadata": {
    "colab_type": "text",
    "id": "0ZSqlCnIx_cN"
   },
   "source": [
    "http://127.0.0.1:5000/getter?name=avilen"
   ]
  },
  {
   "cell_type": "code",
   "execution_count": null,
   "metadata": {},
   "outputs": [],
   "source": [
    "https://www.google.com/search?q=avilen&oq=avilen&aqs=chrome..69i57j0l3j69i60l4.2486j0j7&sourceid=chrome&ie=UTF-8"
   ]
  },
  {
   "cell_type": "markdown",
   "metadata": {
    "colab_type": "text",
    "id": "ZQ7mr8e6x_cN"
   },
   "source": [
    "# GETで複数の値を送信する"
   ]
  },
  {
   "cell_type": "code",
   "execution_count": 11,
   "metadata": {
    "colab": {},
    "colab_type": "code",
    "id": "w4nKgQA6x_cO",
    "scrolled": true
   },
   "outputs": [
    {
     "name": "stdout",
     "output_type": "stream",
     "text": [
      " * Serving Flask app \"__main__\" (lazy loading)\n",
      " * Environment: production\n",
      "   WARNING: This is a development server. Do not use it in a production deployment.\n",
      "   Use a production WSGI server instead.\n",
      " * Debug mode: off\n"
     ]
    },
    {
     "name": "stderr",
     "output_type": "stream",
     "text": [
      " * Running on http://0.0.0.0:5000/ (Press CTRL+C to quit)\n"
     ]
    }
   ],
   "source": [
    "from flask import Flask, Response, request\n",
    "\n",
    "app = Flask(__name__)\n",
    "\n",
    "@app.route('/getters', methods=['GET'])\n",
    "def getters():\n",
    "    \n",
    "    # request.args.getで指定した引数を複数取得\n",
    "    name = request.args.get(\"name\")\n",
    "    data = request.args.get(\"data\")\n",
    "    \n",
    "    # \"文字列\"+\"文字列\"で文字列の連結\n",
    "    return Response(name + \"_\" + data, mimetype=\"text/plain\")\n",
    "\n",
    "app.run(host='0.0.0.0', port=5000) "
   ]
  },
  {
   "cell_type": "markdown",
   "metadata": {
    "colab_type": "text",
    "id": "w29g5jxTx_cR"
   },
   "source": [
    "http://127.0.0.1:5000/getters?name=avilen&data=webapi"
   ]
  },
  {
   "cell_type": "markdown",
   "metadata": {
    "colab_type": "text",
    "id": "3fWk9PeFx_cS"
   },
   "source": [
    "# JSONでレスポンス"
   ]
  },
  {
   "cell_type": "code",
   "execution_count": 12,
   "metadata": {
    "colab": {},
    "colab_type": "code",
    "id": "GW4D5Nhix_cU"
   },
   "outputs": [
    {
     "name": "stdout",
     "output_type": "stream",
     "text": [
      " * Serving Flask app \"__main__\" (lazy loading)\n",
      " * Environment: production\n",
      "   WARNING: This is a development server. Do not use it in a production deployment.\n",
      "   Use a production WSGI server instead.\n",
      " * Debug mode: off\n"
     ]
    },
    {
     "name": "stderr",
     "output_type": "stream",
     "text": [
      " * Running on http://0.0.0.0:5000/ (Press CTRL+C to quit)\n",
      "172.21.0.1 - - [15/Dec/2019 01:44:32] \"GET /response-json HTTP/1.1\" 200 -\n"
     ]
    }
   ],
   "source": [
    "from flask import Flask, jsonify\n",
    "\n",
    "app = Flask(__name__)\n",
    "\n",
    "@app.route(\"/response-json\",methods=[\"GET\"])\n",
    "def response_json():\n",
    "    \n",
    "    # dicに辞書型でデータを保存\n",
    "    dic= {\n",
    "            \"sports\":{\n",
    "                \"baseball\":9,\n",
    "                \"soccer\":11\n",
    "                }\n",
    "            }\n",
    "    \n",
    "    # JSON形式でレスポンス\n",
    "    return jsonify(dic)\n",
    "\n",
    "app.run(host='0.0.0.0', port=5000) "
   ]
  },
  {
   "cell_type": "markdown",
   "metadata": {
    "colab_type": "text",
    "id": "kzVPMYkSx_cX"
   },
   "source": [
    "http://127.0.0.1:5000/response-json"
   ]
  },
  {
   "cell_type": "markdown",
   "metadata": {
    "colab_type": "text",
    "id": "NCwiy78Sx_cY"
   },
   "source": [
    "# URI上に引数を埋め込んで値を送信する"
   ]
  },
  {
   "cell_type": "code",
   "execution_count": 13,
   "metadata": {
    "colab": {},
    "colab_type": "code",
    "id": "iODBU9lFx_cZ"
   },
   "outputs": [
    {
     "name": "stdout",
     "output_type": "stream",
     "text": [
      " * Serving Flask app \"__main__\" (lazy loading)\n",
      " * Environment: production\n",
      "   WARNING: This is a development server. Do not use it in a production deployment.\n",
      "   Use a production WSGI server instead.\n",
      " * Debug mode: off\n"
     ]
    },
    {
     "name": "stderr",
     "output_type": "stream",
     "text": [
      " * Running on http://0.0.0.0:5000/ (Press CTRL+C to quit)\n",
      "172.21.0.1 - - [15/Dec/2019 01:58:10] \"GET /1/apiget HTTP/1.1\" 200 -\n",
      "172.21.0.1 - - [15/Dec/2019 02:10:50] \"GET /1/apiget HTTP/1.1\" 200 -\n",
      "172.21.0.1 - - [15/Dec/2019 02:11:21] \"GET /2/apiget HTTP/1.1\" 200 -\n"
     ]
    }
   ],
   "source": [
    "from flask import Flask, jsonify, Response\n",
    "\n",
    "app = Flask(__name__)\n",
    "\n",
    "# URI上に引数を埋め込み、値を送信\n",
    "@app.route(\"/<apinum>/apiget\",methods=[\"GET\"])\n",
    "def apiget(apinum):\n",
    "    return Response(\"you get \" + apinum, mimetype=\"text/plain\")\n",
    "\n",
    "app.run(host='0.0.0.0', port=5000) "
   ]
  },
  {
   "cell_type": "markdown",
   "metadata": {
    "colab_type": "text",
    "id": "IToNFYWDx_cc"
   },
   "source": [
    "http://127.0.0.1:5000/2/apiget"
   ]
  },
  {
   "cell_type": "code",
   "execution_count": null,
   "metadata": {},
   "outputs": [],
   "source": []
  }
 ],
 "metadata": {
  "colab": {
   "name": "get.ipynb",
   "provenance": [],
   "version": "0.3.2"
  },
  "kernelspec": {
   "display_name": "Python 3",
   "language": "python",
   "name": "python3"
  },
  "language_info": {
   "codemirror_mode": {
    "name": "ipython",
    "version": 3
   },
   "file_extension": ".py",
   "mimetype": "text/x-python",
   "name": "python",
   "nbconvert_exporter": "python",
   "pygments_lexer": "ipython3",
   "version": "3.7.3"
  },
  "toc": {
   "base_numbering": 1,
   "nav_menu": {},
   "number_sections": true,
   "sideBar": true,
   "skip_h1_title": false,
   "title_cell": "Table of Contents",
   "title_sidebar": "Contents",
   "toc_cell": false,
   "toc_position": {},
   "toc_section_display": true,
   "toc_window_display": false
  }
 },
 "nbformat": 4,
 "nbformat_minor": 1
}
