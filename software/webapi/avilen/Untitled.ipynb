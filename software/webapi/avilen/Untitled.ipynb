{
 "cells": [
  {
   "cell_type": "code",
   "execution_count": 2,
   "metadata": {},
   "outputs": [
    {
     "name": "stdout",
     "output_type": "stream",
     "text": [
      " * Serving Flask app \"__main__\" (lazy loading)\n",
      " * Environment: production\n",
      "   WARNING: This is a development server. Do not use it in a production deployment.\n",
      "   Use a production WSGI server instead.\n",
      " * Debug mode: off\n"
     ]
    },
    {
     "name": "stderr",
     "output_type": "stream",
     "text": [
      " * Running on http://127.0.0.1:5000/ (Press CTRL+C to quit)\n"
     ]
    }
   ],
   "source": [
    "# server.py\n",
    "from flask import Flask\n",
    "from flask import render_template, request\n",
    "\n",
    "list = [\"高松\", \"友永\", \"荒木\", \"高橋\", \"藤井\", \"阿部\"]\n",
    "\n",
    "app = Flask(__name__)\n",
    "\n",
    "@app.route(\"/\", methods=[\"GET\", \"POST\"])  # ①GET,POST メゾッドを受け取れるように変更\n",
    "def index():\n",
    "    if request.method == \"GET\": # ②GETメゾッドが受け取った時の処理\n",
    "        return \"\"\"\n",
    "        下に５以下の背番号を入力してください。中日ドラゴンズの選手名を出力します\n",
    "        <form action=\"/\" method=\"POST\">\n",
    "        <input name=\"num\"></input>\n",
    "        </form>\"\"\"\n",
    "    else:                      # ③POSTメゾッドが受け取った時の処理\n",
    "        if int(request.form[\"num\"]) <= 5:\n",
    "            return \"\"\"\n",
    "            {}は{}です！\n",
    "            <form action=\"/\" method=\"POST\">\n",
    "            <input name=\"num\"></input>\n",
    "            </form>\"\"\".format(str(request.form[\"num\"]), list[int(request.form[\"num\"])])\n",
    "        else:                  # 簡単なエラー処理\n",
    "            return \"\"\"\n",
    "            不正な入力です！\n",
    "            \"\"\"\n",
    "\n",
    "if __name__ == '__main__':\n",
    "    app.run()\n"
   ]
  },
  {
   "cell_type": "code",
   "execution_count": null,
   "metadata": {},
   "outputs": [],
   "source": []
  }
 ],
 "metadata": {
  "kernelspec": {
   "display_name": "Python 3",
   "language": "python",
   "name": "python3"
  },
  "language_info": {
   "codemirror_mode": {
    "name": "ipython",
    "version": 3
   },
   "file_extension": ".py",
   "mimetype": "text/x-python",
   "name": "python",
   "nbconvert_exporter": "python",
   "pygments_lexer": "ipython3",
   "version": "3.7.6"
  },
  "toc": {
   "base_numbering": 1,
   "nav_menu": {},
   "number_sections": true,
   "sideBar": true,
   "skip_h1_title": false,
   "title_cell": "Table of Contents",
   "title_sidebar": "Contents",
   "toc_cell": false,
   "toc_position": {},
   "toc_section_display": true,
   "toc_window_display": false
  }
 },
 "nbformat": 4,
 "nbformat_minor": 4
}
