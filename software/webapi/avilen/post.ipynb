{
 "cells": [
  {
   "cell_type": "markdown",
   "metadata": {},
   "source": [
    "# JSONでリクエスト"
   ]
  },
  {
   "cell_type": "code",
   "execution_count": 1,
   "metadata": {
    "scrolled": true
   },
   "outputs": [
    {
     "name": "stdout",
     "output_type": "stream",
     "text": [
      " * Serving Flask app \"__main__\" (lazy loading)\n",
      " * Environment: production\n",
      "   WARNING: This is a development server. Do not use it in a production deployment.\n",
      "   Use a production WSGI server instead.\n",
      " * Debug mode: off\n"
     ]
    },
    {
     "name": "stderr",
     "output_type": "stream",
     "text": [
      " * Running on http://0.0.0.0:5000/ (Press CTRL+C to quit)\n",
      "192.168.128.1 - - [01/Mar/2020 10:44:29] \"\u001b[31m\u001b[1mGET /postjson HTTP/1.1\u001b[0m\" 405 -\n",
      "192.168.128.1 - - [01/Mar/2020 10:44:56] \"\u001b[37mPOST /postjson HTTP/1.1\u001b[0m\" 200 -\n",
      "192.168.128.1 - - [01/Mar/2020 10:45:08] \"\u001b[31m\u001b[1mGET /postjson HTTP/1.1\u001b[0m\" 405 -\n",
      "192.168.128.1 - - [01/Mar/2020 10:48:12] \"\u001b[33mGET / HTTP/1.1\u001b[0m\" 404 -\n"
     ]
    }
   ],
   "source": [
    "from flask import Flask, jsonify, request\n",
    "\n",
    "app = Flask(__name__)\n",
    "\n",
    "# リクエスト方法をPOSTで指定\n",
    "@app.route(\"/postjson\",methods=[\"POST\"])\n",
    "def postjson():\n",
    "    \n",
    "    # request.args_json()で送信したJSON形式のデータを取得\n",
    "    json = request.get_json()\n",
    "    \n",
    "    #  JSONデータのname部分を取得\n",
    "    myname = json[\"name\"]\n",
    "    \n",
    "    # resultのnameにmynameを使用\n",
    "    result = {\n",
    "            \"data\": {\n",
    "                \"id\" :1,\n",
    "                \"name\":myname\n",
    "                }\n",
    "            }\n",
    "    return jsonify(result)\n",
    "\n",
    "#app.run(host='0.0.0.0', port=5000) \n",
    "app.run(debug=False, host='0.0.0.0', port=5000)"
   ]
  },
  {
   "cell_type": "markdown",
   "metadata": {},
   "source": [
    "http://127.0.0.1:5000/postjson\n",
    "{\"name\":\"avilen\"}"
   ]
  },
  {
   "cell_type": "markdown",
   "metadata": {},
   "source": [
    "# form POSTでリクエスト"
   ]
  },
  {
   "cell_type": "code",
   "execution_count": 8,
   "metadata": {},
   "outputs": [
    {
     "name": "stdout",
     "output_type": "stream",
     "text": [
      " * Serving Flask app \"__main__\" (lazy loading)\n",
      " * Environment: production\n",
      "   WARNING: This is a development server. Do not use it in a production deployment.\n",
      "   Use a production WSGI server instead.\n",
      " * Debug mode: off\n"
     ]
    },
    {
     "name": "stderr",
     "output_type": "stream",
     "text": [
      " * Running on http://0.0.0.0:5000/ (Press CTRL+C to quit)\n",
      "172.21.0.1 - - [14/Dec/2019 16:50:31] \"GET /formpost HTTP/1.1\" 200 -\n",
      "172.21.0.1 - - [14/Dec/2019 16:50:34] \"POST /formpost HTTP/1.1\" 200 -\n",
      "172.21.0.1 - - [14/Dec/2019 16:50:36] \"GET /formpost HTTP/1.1\" 200 -\n",
      "172.21.0.1 - - [14/Dec/2019 16:51:52] \"GET /formpost HTTP/1.1\" 200 -\n"
     ]
    }
   ],
   "source": [
    "from numpy.random import *\n",
    "from flask import Flask, request\n",
    "\n",
    "app = Flask(__name__)\n",
    "\n",
    "# form POSTでリクエスト(参考)\n",
    "# 0~99のランダムな整数を指定した数だけレスポンス\n",
    "@app.route(\"/formpost\",methods=[\"GET\",\"POST\"])\n",
    "def formpost():\n",
    "    if request.method == \"GET\":\n",
    "        return \"\"\"\n",
    "        下に整数を入力してください。入力した数だけ0~99のランダムな整数を表示します。\n",
    "        <form action=\"/formpost\" method=\"POST\">\n",
    "        <input name =\"num\"></input>\n",
    "        </form>\"\"\"\n",
    "    else:\n",
    "        num = request.form[\"num\"]\n",
    "        return (\",\".join(map(str,(randint(0,100,int(num))))))\n",
    "    \n",
    "app.run(debug=False, host='0.0.0.0', port=5000)"
   ]
  },
  {
   "cell_type": "markdown",
   "metadata": {},
   "source": [
    "http://127.0.0.1:5000/formpost"
   ]
  }
 ],
 "metadata": {
  "kernelspec": {
   "display_name": "Python 3",
   "language": "python",
   "name": "python3"
  },
  "language_info": {
   "codemirror_mode": {
    "name": "ipython",
    "version": 3
   },
   "file_extension": ".py",
   "mimetype": "text/x-python",
   "name": "python",
   "nbconvert_exporter": "python",
   "pygments_lexer": "ipython3",
   "version": "3.7.6"
  },
  "toc": {
   "base_numbering": 1,
   "nav_menu": {},
   "number_sections": true,
   "sideBar": true,
   "skip_h1_title": false,
   "title_cell": "Table of Contents",
   "title_sidebar": "Contents",
   "toc_cell": false,
   "toc_position": {},
   "toc_section_display": true,
   "toc_window_display": false
  }
 },
 "nbformat": 4,
 "nbformat_minor": 2
}
