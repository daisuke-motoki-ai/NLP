{
 "cells": [
  {
   "cell_type": "markdown",
   "metadata": {
    "colab_type": "text",
    "id": "jEbpHtZAGKXi"
   },
   "source": [
    "# 演習問題1"
   ]
  },
  {
   "cell_type": "code",
   "execution_count": 1,
   "metadata": {},
   "outputs": [],
   "source": [
    "import pandas as pd"
   ]
  },
  {
   "cell_type": "code",
   "execution_count": 2,
   "metadata": {
    "scrolled": true
   },
   "outputs": [
    {
     "data": {
      "text/html": [
       "<div>\n",
       "<style scoped>\n",
       "    .dataframe tbody tr th:only-of-type {\n",
       "        vertical-align: middle;\n",
       "    }\n",
       "\n",
       "    .dataframe tbody tr th {\n",
       "        vertical-align: top;\n",
       "    }\n",
       "\n",
       "    .dataframe thead th {\n",
       "        text-align: right;\n",
       "    }\n",
       "</style>\n",
       "<table border=\"1\" class=\"dataframe\">\n",
       "  <thead>\n",
       "    <tr style=\"text-align: right;\">\n",
       "      <th></th>\n",
       "      <th>genre</th>\n",
       "      <th>title</th>\n",
       "      <th>price</th>\n",
       "      <th>date</th>\n",
       "    </tr>\n",
       "  </thead>\n",
       "  <tbody>\n",
       "    <tr>\n",
       "      <th>0</th>\n",
       "      <td>js</td>\n",
       "      <td>Node.jsデザインパターン 第2版</td>\n",
       "      <td>4536</td>\n",
       "      <td>2019/05/18</td>\n",
       "    </tr>\n",
       "    <tr>\n",
       "      <th>1</th>\n",
       "      <td>design</td>\n",
       "      <td>インタフェースデザインの実践教室</td>\n",
       "      <td>3240</td>\n",
       "      <td>2013/04/17</td>\n",
       "    </tr>\n",
       "    <tr>\n",
       "      <th>2</th>\n",
       "      <td>python</td>\n",
       "      <td>Pythonデータサイエンスハンドブック</td>\n",
       "      <td>4536</td>\n",
       "      <td>2018/05/26</td>\n",
       "    </tr>\n",
       "    <tr>\n",
       "      <th>3</th>\n",
       "      <td>python</td>\n",
       "      <td>PythonによるAIプログラミング入門</td>\n",
       "      <td>3672</td>\n",
       "      <td>2019/03/20</td>\n",
       "    </tr>\n",
       "    <tr>\n",
       "      <th>4</th>\n",
       "      <td>python</td>\n",
       "      <td>入門 自然言語処理</td>\n",
       "      <td>4104</td>\n",
       "      <td>2010/11/10</td>\n",
       "    </tr>\n",
       "    <tr>\n",
       "      <th>...</th>\n",
       "      <td>...</td>\n",
       "      <td>...</td>\n",
       "      <td>...</td>\n",
       "      <td>...</td>\n",
       "    </tr>\n",
       "    <tr>\n",
       "      <th>97</th>\n",
       "      <td>design</td>\n",
       "      <td>モバイルデザインパターン 第2版</td>\n",
       "      <td>3996</td>\n",
       "      <td>2015/02/12</td>\n",
       "    </tr>\n",
       "    <tr>\n",
       "      <th>98</th>\n",
       "      <td>js</td>\n",
       "      <td>メンテナブルJavaScript</td>\n",
       "      <td>2808</td>\n",
       "      <td>2013/03/06</td>\n",
       "    </tr>\n",
       "    <tr>\n",
       "      <th>99</th>\n",
       "      <td>js</td>\n",
       "      <td>入門 Webゲーム開発</td>\n",
       "      <td>3456</td>\n",
       "      <td>2014/03/22</td>\n",
       "    </tr>\n",
       "    <tr>\n",
       "      <th>100</th>\n",
       "      <td>python</td>\n",
       "      <td>Pythonからはじめる数学入門</td>\n",
       "      <td>3024</td>\n",
       "      <td>2016/05/21</td>\n",
       "    </tr>\n",
       "    <tr>\n",
       "      <th>101</th>\n",
       "      <td>js</td>\n",
       "      <td>実践 Selenium WebDriver</td>\n",
       "      <td>3240</td>\n",
       "      <td>2014/09/18</td>\n",
       "    </tr>\n",
       "  </tbody>\n",
       "</table>\n",
       "<p>102 rows × 4 columns</p>\n",
       "</div>"
      ],
      "text/plain": [
       "      genre                  title  price        date\n",
       "0        js    Node.jsデザインパターン 第2版   4536  2019/05/18\n",
       "1    design       インタフェースデザインの実践教室   3240  2013/04/17\n",
       "2    python   Pythonデータサイエンスハンドブック   4536  2018/05/26\n",
       "3    python   PythonによるAIプログラミング入門   3672  2019/03/20\n",
       "4    python              入門 自然言語処理   4104  2010/11/10\n",
       "..      ...                    ...    ...         ...\n",
       "97   design       モバイルデザインパターン 第2版   3996  2015/02/12\n",
       "98       js       メンテナブルJavaScript   2808  2013/03/06\n",
       "99       js            入門 Webゲーム開発   3456  2014/03/22\n",
       "100  python       Pythonからはじめる数学入門   3024  2016/05/21\n",
       "101      js  実践 Selenium WebDriver   3240  2014/09/18\n",
       "\n",
       "[102 rows x 4 columns]"
      ]
     },
     "execution_count": 2,
     "metadata": {},
     "output_type": "execute_result"
    }
   ],
   "source": [
    "df = pd.read_csv(\"exercise_book.csv\")\n",
    "df"
   ]
  },
  {
   "cell_type": "code",
   "execution_count": 3,
   "metadata": {
    "scrolled": true
   },
   "outputs": [
    {
     "data": {
      "text/html": [
       "<div>\n",
       "<style scoped>\n",
       "    .dataframe tbody tr th:only-of-type {\n",
       "        vertical-align: middle;\n",
       "    }\n",
       "\n",
       "    .dataframe tbody tr th {\n",
       "        vertical-align: top;\n",
       "    }\n",
       "\n",
       "    .dataframe thead th {\n",
       "        text-align: right;\n",
       "    }\n",
       "</style>\n",
       "<table border=\"1\" class=\"dataframe\">\n",
       "  <thead>\n",
       "    <tr style=\"text-align: right;\">\n",
       "      <th></th>\n",
       "      <th>genre</th>\n",
       "      <th>title</th>\n",
       "      <th>price</th>\n",
       "      <th>date</th>\n",
       "    </tr>\n",
       "  </thead>\n",
       "  <tbody>\n",
       "    <tr>\n",
       "      <th>0</th>\n",
       "      <td>js</td>\n",
       "      <td>Node.jsデザインパターン 第2版</td>\n",
       "      <td>4536</td>\n",
       "      <td>2019/05/18</td>\n",
       "    </tr>\n",
       "    <tr>\n",
       "      <th>1</th>\n",
       "      <td>design</td>\n",
       "      <td>インタフェースデザインの実践教室</td>\n",
       "      <td>3240</td>\n",
       "      <td>2013/04/17</td>\n",
       "    </tr>\n",
       "    <tr>\n",
       "      <th>2</th>\n",
       "      <td>python</td>\n",
       "      <td>Pythonデータサイエンスハンドブック</td>\n",
       "      <td>4536</td>\n",
       "      <td>2018/05/26</td>\n",
       "    </tr>\n",
       "    <tr>\n",
       "      <th>3</th>\n",
       "      <td>python</td>\n",
       "      <td>PythonによるAIプログラミング入門</td>\n",
       "      <td>3672</td>\n",
       "      <td>2019/03/20</td>\n",
       "    </tr>\n",
       "    <tr>\n",
       "      <th>4</th>\n",
       "      <td>python</td>\n",
       "      <td>入門 自然言語処理</td>\n",
       "      <td>4104</td>\n",
       "      <td>2010/11/10</td>\n",
       "    </tr>\n",
       "    <tr>\n",
       "      <th>...</th>\n",
       "      <td>...</td>\n",
       "      <td>...</td>\n",
       "      <td>...</td>\n",
       "      <td>...</td>\n",
       "    </tr>\n",
       "    <tr>\n",
       "      <th>97</th>\n",
       "      <td>design</td>\n",
       "      <td>モバイルデザインパターン 第2版</td>\n",
       "      <td>3996</td>\n",
       "      <td>2015/02/12</td>\n",
       "    </tr>\n",
       "    <tr>\n",
       "      <th>98</th>\n",
       "      <td>js</td>\n",
       "      <td>メンテナブルJavaScript</td>\n",
       "      <td>2808</td>\n",
       "      <td>2013/03/06</td>\n",
       "    </tr>\n",
       "    <tr>\n",
       "      <th>99</th>\n",
       "      <td>js</td>\n",
       "      <td>入門 Webゲーム開発</td>\n",
       "      <td>3456</td>\n",
       "      <td>2014/03/22</td>\n",
       "    </tr>\n",
       "    <tr>\n",
       "      <th>100</th>\n",
       "      <td>python</td>\n",
       "      <td>Pythonからはじめる数学入門</td>\n",
       "      <td>3024</td>\n",
       "      <td>2016/05/21</td>\n",
       "    </tr>\n",
       "    <tr>\n",
       "      <th>101</th>\n",
       "      <td>js</td>\n",
       "      <td>実践 Selenium WebDriver</td>\n",
       "      <td>3240</td>\n",
       "      <td>2014/09/18</td>\n",
       "    </tr>\n",
       "  </tbody>\n",
       "</table>\n",
       "<p>102 rows × 4 columns</p>\n",
       "</div>"
      ],
      "text/plain": [
       "      genre                  title  price        date\n",
       "0        js    Node.jsデザインパターン 第2版   4536  2019/05/18\n",
       "1    design       インタフェースデザインの実践教室   3240  2013/04/17\n",
       "2    python   Pythonデータサイエンスハンドブック   4536  2018/05/26\n",
       "3    python   PythonによるAIプログラミング入門   3672  2019/03/20\n",
       "4    python              入門 自然言語処理   4104  2010/11/10\n",
       "..      ...                    ...    ...         ...\n",
       "97   design       モバイルデザインパターン 第2版   3996  2015/02/12\n",
       "98       js       メンテナブルJavaScript   2808  2013/03/06\n",
       "99       js            入門 Webゲーム開発   3456  2014/03/22\n",
       "100  python       Pythonからはじめる数学入門   3024  2016/05/21\n",
       "101      js  実践 Selenium WebDriver   3240  2014/09/18\n",
       "\n",
       "[102 rows x 4 columns]"
      ]
     },
     "execution_count": 3,
     "metadata": {},
     "output_type": "execute_result"
    }
   ],
   "source": [
    "df[\"price\"] = df[\"price\"].astype(int)\n",
    "df"
   ]
  },
  {
   "cell_type": "code",
   "execution_count": 5,
   "metadata": {
    "colab": {},
    "colab_type": "code",
    "id": "QT3YYaCoGKXj"
   },
   "outputs": [
    {
     "name": "stdout",
     "output_type": "stream",
     "text": [
      " * Serving Flask app \"__main__\" (lazy loading)\n",
      " * Environment: production\n",
      "   WARNING: This is a development server. Do not use it in a production deployment.\n",
      "   Use a production WSGI server instead.\n",
      " * Debug mode: off\n"
     ]
    },
    {
     "name": "stderr",
     "output_type": "stream",
     "text": [
      " * Running on http://0.0.0.0:5000/ (Press CTRL+C to quit)\n",
      "172.19.0.1 - - [14/Feb/2020 12:17:26] \"\u001b[37mGET /python/book?threshold=3000 HTTP/1.1\u001b[0m\" 200 -\n"
     ]
    }
   ],
   "source": [
    "import pandas as pd\n",
    "from flask import Flask, jsonify, Response, request\n",
    "\n",
    "app = Flask(__name__)\n",
    "app.config['JSON_AS_ASCII'] = False\n",
    "\n",
    "\n",
    "def readcsv():\n",
    "    df = pd.read_csv(\"exercise_book.csv\")\n",
    "    df[\"price\"] = df[\"price\"].astype(int)\n",
    "    return df\n",
    "\n",
    "@app.route(\"/<genre>/book\",methods=[\"GET\"])\n",
    "def summry1(genre):\n",
    "    threshold = int(request.args.get(\"threshold\"))\n",
    "    buf = df[df[\"genre\"] == genre]\n",
    "    result = buf[buf[\"price\"]<threshold]\n",
    "    titles = [i for i in result[\"title\"]]\n",
    "    res = {\"titles\":titles}\n",
    "    return jsonify(res)\n",
    "\n",
    "df = readcsv()\n",
    "app.run(host='0.0.0.0', port=5000) "
   ]
  },
  {
   "cell_type": "markdown",
   "metadata": {
    "colab_type": "text",
    "id": "QnvkxtXyGKXn"
   },
   "source": [
    "http://127.0.0.1:5000/python/book?threshold=3000"
   ]
  },
  {
   "cell_type": "markdown",
   "metadata": {
    "colab_type": "text",
    "id": "SuI5KD4RGKXo"
   },
   "source": [
    "# 演習問題2"
   ]
  },
  {
   "cell_type": "code",
   "execution_count": null,
   "metadata": {
    "colab": {},
    "colab_type": "code",
    "id": "6wbcHavlGKXp",
    "scrolled": true
   },
   "outputs": [
    {
     "name": "stdout",
     "output_type": "stream",
     "text": [
      " * Serving Flask app \"__main__\" (lazy loading)\n",
      " * Environment: production\n",
      "   WARNING: This is a development server. Do not use it in a production deployment.\n",
      "   Use a production WSGI server instead.\n",
      " * Debug mode: off\n"
     ]
    },
    {
     "name": "stderr",
     "output_type": "stream",
     "text": [
      " * Running on http://0.0.0.0:5000/ (Press CTRL+C to quit)\n",
      "172.19.0.1 - - [14/Feb/2020 12:35:52] \"\u001b[37mPOST /exercise2 HTTP/1.1\u001b[0m\" 200 -\n",
      "172.19.0.1 - - [14/Feb/2020 12:37:49] \"\u001b[37mPOST /exercise2 HTTP/1.1\u001b[0m\" 200 -\n"
     ]
    }
   ],
   "source": [
    "import pandas as pd\n",
    "from flask import Flask, jsonify, Response, request\n",
    "\n",
    "app = Flask(__name__)\n",
    "\n",
    "@app.route(\"/exercise2\",methods=[\"POST\"])\n",
    "def exercise2():\n",
    "    df = pd.read_csv(\"exercise_book.csv\")\n",
    "    input_data = request.get_json()\n",
    "    genre = input_data[\"genre\"]\n",
    "    title = input_data[\"title\"]\n",
    "    price = input_data[\"price\"]\n",
    "    date = input_data[\"date\"]\n",
    "    s = pd.Series([genre,title,price,date],index=df.columns,name=\"append\")\n",
    "    df = df.append(s)\n",
    "    df.to_csv(\"./result.csv\",index=False)\n",
    "    return Response(\"ok\",mimetype=\"text/plain\")\n",
    "\n",
    "app.run(host='0.0.0.0', port=5000) "
   ]
  },
  {
   "cell_type": "markdown",
   "metadata": {
    "colab_type": "text",
    "id": "vzRaXnxVGKXu"
   },
   "source": [
    "- http://127.0.0.1:5000/exercise2\n",
    "- {\"genre\":\"python\",\"title\":\"python演習本\",\"price\":5000,\"date\":\"2019/5/18\"}"
   ]
  }
 ],
 "metadata": {
  "colab": {
   "name": "ensyu_answer.ipynb",
   "provenance": [],
   "version": "0.3.2"
  },
  "kernelspec": {
   "display_name": "Python 3",
   "language": "python",
   "name": "python3"
  },
  "language_info": {
   "codemirror_mode": {
    "name": "ipython",
    "version": 3
   },
   "file_extension": ".py",
   "mimetype": "text/x-python",
   "name": "python",
   "nbconvert_exporter": "python",
   "pygments_lexer": "ipython3",
   "version": "3.7.3"
  },
  "toc": {
   "base_numbering": 1,
   "nav_menu": {},
   "number_sections": true,
   "sideBar": true,
   "skip_h1_title": false,
   "title_cell": "Table of Contents",
   "title_sidebar": "Contents",
   "toc_cell": false,
   "toc_position": {},
   "toc_section_display": true,
   "toc_window_display": false
  }
 },
 "nbformat": 4,
 "nbformat_minor": 1
}
