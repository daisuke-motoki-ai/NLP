{
 "cells": [
  {
   "cell_type": "markdown",
   "metadata": {},
   "source": [
    "# エラー内容をレスポンスに記載する"
   ]
  },
  {
   "cell_type": "code",
   "execution_count": 1,
   "metadata": {},
   "outputs": [
    {
     "name": "stdout",
     "output_type": "stream",
     "text": [
      " * Serving Flask app \"__main__\" (lazy loading)\n",
      " * Environment: production\n",
      "   WARNING: This is a development server. Do not use it in a production deployment.\n",
      "   Use a production WSGI server instead.\n",
      " * Debug mode: off\n"
     ]
    },
    {
     "name": "stderr",
     "output_type": "stream",
     "text": [
      " * Running on http://0.0.0.0:5000/ (Press CTRL+C to quit)\n",
      "172.18.0.1 - - [14/Feb/2020 11:33:48] \"\u001b[35m\u001b[1mPOST /try HTTP/1.1\u001b[0m\" 500 -\n",
      "172.18.0.1 - - [14/Feb/2020 11:34:10] \"\u001b[37mPOST /try HTTP/1.1\u001b[0m\" 200 -\n"
     ]
    }
   ],
   "source": [
    "from flask import Flask, Response, request\n",
    "\n",
    "app = Flask(__name__)\n",
    "\n",
    "@app.route(\"/try\",methods=[\"POST\"])\n",
    "def try_example():\n",
    "    json = request.get_json()\n",
    "    # try以下のコードが通らなかった時にexcept以下が実行\n",
    "    try:\n",
    "        # 入力が文字列だとint型に変換できないためエラーが発生\n",
    "        num = int(json[\"num\"])\n",
    "        return Response(str(num), mimetype = \"text/plain\")\n",
    "    \n",
    "    except:\n",
    "        # ステータスコードは２つ目の返り値で指定\n",
    "        return Response(\"有効な数字ではありません。\",mimetype = \"text/plain\"), 500\n",
    "    \n",
    "app.run(debug=False, host='0.0.0.0', port=5000)"
   ]
  },
  {
   "cell_type": "markdown",
   "metadata": {},
   "source": [
    "http://127.0.0.1:5000/try\n",
    "{\"num\":3}\n",
    "\n",
    "{\"num\":\"aaaaa\"}"
   ]
  },
  {
   "cell_type": "markdown",
   "metadata": {},
   "source": [
    "# エラーログを残す"
   ]
  },
  {
   "cell_type": "code",
   "execution_count": 2,
   "metadata": {},
   "outputs": [
    {
     "name": "stdout",
     "output_type": "stream",
     "text": [
      "4\n",
      "invalid literal for int() with base 10: 'aggkhbj'\n"
     ]
    }
   ],
   "source": [
    "import sys\n",
    "a = \"aggkhbj\"\n",
    "try:\n",
    "    int(a)\n",
    "except Exception as e:\n",
    "    _, error_message, tb=sys.exc_info()\n",
    "    lineno = tb.tb_lineno\n",
    "    print(lineno)\n",
    "    print(str(error_message))"
   ]
  },
  {
   "cell_type": "code",
   "execution_count": 3,
   "metadata": {},
   "outputs": [
    {
     "name": "stdout",
     "output_type": "stream",
     "text": [
      " * Serving Flask app \"__main__\" (lazy loading)\n",
      " * Environment: production\n",
      "   WARNING: This is a development server. Do not use it in a production deployment.\n",
      "   Use a production WSGI server instead.\n",
      " * Debug mode: off\n"
     ]
    },
    {
     "name": "stderr",
     "output_type": "stream",
     "text": [
      " * Running on http://0.0.0.0:5000/ (Press CTRL+C to quit)\n",
      "172.18.0.1 - - [14/Feb/2020 11:40:51] \"\u001b[37mPOST /errorhand HTTP/1.1\u001b[0m\" 200 -\n",
      "172.18.0.1 - - [14/Feb/2020 11:43:10] \"\u001b[35m\u001b[1mPOST /errorhand HTTP/1.1\u001b[0m\" 500 -\n",
      "172.18.0.1 - - [14/Feb/2020 11:43:55] \"\u001b[37mPOST /errorhand HTTP/1.1\u001b[0m\" 200 -\n",
      "172.18.0.1 - - [14/Feb/2020 11:44:06] \"\u001b[35m\u001b[1mPOST /errorhand HTTP/1.1\u001b[0m\" 500 -\n"
     ]
    }
   ],
   "source": [
    "from flask import Flask, Response, request\n",
    "import datetime #現在時刻を取得するのに利用\n",
    "import sys #エラーハンドリングの際に利用\n",
    "\n",
    "app = Flask(__name__)\n",
    "\n",
    "@app.route(\"/errorhand\",methods=[\"POST\"])\n",
    "def errorhand():\n",
    "    try:\n",
    "        json = request.get_json()\n",
    "        num = int(json[\"num\"])\n",
    "        return Response(str(num),mimetype = \"text/plain\")\n",
    "    except Exception as e:\n",
    "        error_detail = errorlogging()#エラーロギングの関数にエラー内容を渡す\n",
    "        \n",
    "        #プログラムのエラーはそのままレスポンスしない\n",
    "        return \"INTERNAL SERVER ERROR\", 500\n",
    "\n",
    "    \n",
    "def errorlogging():\n",
    "    fn = \"flask_error.log\"#ログの出力先を指定\n",
    "    now = datetime.datetime.now()#現在時刻を取得\n",
    "    now = now.strftime(\"%Y/%m/%d %H:%M:%S\")#時刻のフォーマットを変更\n",
    "    _, error_message, tb=sys.exc_info()#エラー情報を取得\n",
    "    lineno = tb.tb_lineno#エラーが発生したプログラムの行数を取得\n",
    "    error_detail = {\n",
    "                            \"timestamp\":now,\n",
    "                            \"program\":\"error.ipynb\",\n",
    "                            \"line\":lineno,\n",
    "                            \"message\": str(error_message)\n",
    "                           }\n",
    "    error_detail = str(error_detail)#一行でファイル出力するためにstr型に変換\n",
    "    #エラーの詳細を書き出す\n",
    "    with open(fn,\"a\") as f:\n",
    "        f.write(error_detail+\"\\n\")\n",
    "    return error_detail\n",
    "\n",
    "        \n",
    "app.run(host='0.0.0.0', port=5000) "
   ]
  },
  {
   "cell_type": "markdown",
   "metadata": {},
   "source": [
    "http://127.0.0.1:5000/errorhand\n",
    "{\"num\":3}"
   ]
  }
 ],
 "metadata": {
  "kernelspec": {
   "display_name": "Python 3",
   "language": "python",
   "name": "python3"
  },
  "language_info": {
   "codemirror_mode": {
    "name": "ipython",
    "version": 3
   },
   "file_extension": ".py",
   "mimetype": "text/x-python",
   "name": "python",
   "nbconvert_exporter": "python",
   "pygments_lexer": "ipython3",
   "version": "3.7.3"
  },
  "toc": {
   "base_numbering": 1,
   "nav_menu": {},
   "number_sections": true,
   "sideBar": true,
   "skip_h1_title": false,
   "title_cell": "Table of Contents",
   "title_sidebar": "Contents",
   "toc_cell": false,
   "toc_position": {},
   "toc_section_display": true,
   "toc_window_display": false
  }
 },
 "nbformat": 4,
 "nbformat_minor": 2
}
