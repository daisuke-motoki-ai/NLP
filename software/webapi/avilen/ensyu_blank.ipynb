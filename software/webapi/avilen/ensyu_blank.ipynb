{
 "cells": [
  {
   "cell_type": "markdown",
   "metadata": {},
   "source": [
    "# 演習問題1"
   ]
  },
  {
   "cell_type": "code",
   "execution_count": null,
   "metadata": {},
   "outputs": [],
   "source": [
    "import pandas as pd\n",
    "from flask import Flask, jsonify, Response, request\n",
    "\n",
    "app = Flask(__name__)\n",
    "app.config['JSON_AS_ASCII'] = False\n",
    "\n",
    "\n",
    "def readcsv():\n",
    "    df = pd.read_csv(\"exercise_book.csv\")\n",
    "    df[\"price\"] = df[\"price\"].astype(int)\n",
    "    return df\n",
    "\n",
    "@app.route(\"??????\",methods=[\"GET\"])\n",
    "def summry1(genre):\n",
    "    threshold = ?????\n",
    "    buf = df[df[\"genre\"] == genre]\n",
    "    result = buf[buf[\"price\"]<threshold]\n",
    "    titles = [i for i in result[\"title\"]]\n",
    "    res = {\"titles\":titles}\n",
    "    return jsonify(res)\n",
    "\n",
    "df = readcsv()#アプリの初回起動時にcsvファイルを読み込む\n",
    "app.run()"
   ]
  },
  {
   "cell_type": "markdown",
   "metadata": {},
   "source": [
    "http://127.0.0.1:5000/python/book?threshold=3000"
   ]
  },
  {
   "cell_type": "markdown",
   "metadata": {},
   "source": [
    "# 演習問題2"
   ]
  },
  {
   "cell_type": "code",
   "execution_count": null,
   "metadata": {
    "scrolled": true
   },
   "outputs": [],
   "source": [
    "import json\n",
    "import pandas as pd\n",
    "from flask import Flask, jsonify, Response, request\n",
    "\n",
    "app = Flask(__name__)\n",
    "\n",
    "# 総合問題(post)\n",
    "#{\"genre\":\"python\",\"title\":\"python演習本\",\"price\":5000,\"date\":\"2019/5/18\"}\n",
    "@app.route(\"/exercise2\",methods=[\"POST\"])\n",
    "def exercise2():\n",
    "    df = pd.read_csv(\"exercise_book.csv\")\n",
    "    input_data = ?????\n",
    "    genre = ?????\n",
    "    title = ?????\n",
    "    price = ?????\n",
    "    date = ?????\n",
    "    s = pd.Series([genre,title,price,date],index=df.columns,name=\"append\")\n",
    "    df = df.append(s)\n",
    "    df.to_csv(\"./result.csv\",index=False)\n",
    "    return Response(\"ok\",mimetype=\"text/plain\")\n",
    "\n",
    "app.run()"
   ]
  },
  {
   "cell_type": "markdown",
   "metadata": {},
   "source": [
    "http://127.0.0.1:5000/exercise2\n",
    "{\"genre\":\"python\",\"title\":\"python演習本\",\"price\":5000,\"date\":\"2019/5/18\"}"
   ]
  }
 ],
 "metadata": {
  "kernelspec": {
   "display_name": "Python 3",
   "language": "python",
   "name": "python3"
  },
  "language_info": {
   "codemirror_mode": {
    "name": "ipython",
    "version": 3
   },
   "file_extension": ".py",
   "mimetype": "text/x-python",
   "name": "python",
   "nbconvert_exporter": "python",
   "pygments_lexer": "ipython3",
   "version": "3.7.3"
  },
  "toc": {
   "base_numbering": 1,
   "nav_menu": {},
   "number_sections": true,
   "sideBar": true,
   "skip_h1_title": false,
   "title_cell": "Table of Contents",
   "title_sidebar": "Contents",
   "toc_cell": false,
   "toc_position": {},
   "toc_section_display": true,
   "toc_window_display": false
  }
 },
 "nbformat": 4,
 "nbformat_minor": 2
}
