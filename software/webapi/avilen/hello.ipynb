{
 "cells": [
  {
   "cell_type": "code",
   "execution_count": 1,
   "metadata": {
    "scrolled": false
   },
   "outputs": [
    {
     "name": "stdout",
     "output_type": "stream",
     "text": [
      "Collecting flask==1.1.1\n",
      "\u001b[?25l  Downloading https://files.pythonhosted.org/packages/9b/93/628509b8d5dc749656a9641f4caf13540e2cdec85276964ff8f43bbb1d3b/Flask-1.1.1-py2.py3-none-any.whl (94kB)\n",
      "\u001b[K     |████████████████████████████████| 102kB 4.9MB/s ta 0:00:011\n",
      "\u001b[?25hCollecting itsdangerous>=0.24\n",
      "  Downloading https://files.pythonhosted.org/packages/76/ae/44b03b253d6fade317f32c24d100b3b35c2239807046a4c953c7b89fa49e/itsdangerous-1.1.0-py2.py3-none-any.whl\n",
      "Requirement already satisfied: Jinja2>=2.10.1 in /opt/conda/lib/python3.7/site-packages (from flask==1.1.1) (2.10.3)\n",
      "Collecting Werkzeug>=0.15\n",
      "\u001b[?25l  Downloading https://files.pythonhosted.org/packages/ba/a5/d6f8a6e71f15364d35678a4ec8a0186f980b3bd2545f40ad51dd26a87fb1/Werkzeug-1.0.0-py2.py3-none-any.whl (298kB)\n",
      "\u001b[K     |████████████████████████████████| 307kB 14.5MB/s eta 0:00:01\n",
      "\u001b[?25hRequirement already satisfied: click>=5.1 in /opt/conda/lib/python3.7/site-packages (from flask==1.1.1) (7.0)\n",
      "Requirement already satisfied: MarkupSafe>=0.23 in /opt/conda/lib/python3.7/site-packages (from Jinja2>=2.10.1->flask==1.1.1) (1.1.1)\n",
      "Installing collected packages: itsdangerous, Werkzeug, flask\n",
      "Successfully installed Werkzeug-1.0.0 flask-1.1.1 itsdangerous-1.1.0\n"
     ]
    }
   ],
   "source": [
    "!pip install flask==1.1.1"
   ]
  },
  {
   "cell_type": "code",
   "execution_count": 1,
   "metadata": {
    "scrolled": false
   },
   "outputs": [
    {
     "name": "stdout",
     "output_type": "stream",
     "text": [
      " * Serving Flask app \"__main__\" (lazy loading)\n",
      " * Environment: production\n",
      "   WARNING: This is a development server. Do not use it in a production deployment.\n",
      "   Use a production WSGI server instead.\n",
      " * Debug mode: off\n"
     ]
    },
    {
     "name": "stderr",
     "output_type": "stream",
     "text": [
      " * Running on http://0.0.0.0:5000/ (Press CTRL+C to quit)\n",
      "192.168.128.1 - - [01/Mar/2020 10:40:31] \"\u001b[33mGET / HTTP/1.1\u001b[0m\" 404 -\n",
      "192.168.128.1 - - [01/Mar/2020 10:40:37] \"\u001b[37mGET /hello HTTP/1.1\u001b[0m\" 200 -\n"
     ]
    }
   ],
   "source": [
    "# Flaskをインポート\n",
    "from flask import Flask, Response\n",
    "\n",
    "# Flaskのインスタンスを作成。\n",
    "# Flaskで使用できる機能を使用できるようにする。\n",
    "app = Flask(__name__)\n",
    "\n",
    "# ファンクションを起動するURIをFlaskに指定\n",
    "@app.route(\"/hello\")\n",
    "\n",
    "# URIが指定された際に実行されるファンクションを指定\n",
    "def hello():\n",
    "    \n",
    "    # Responseで引数をtext形式で返す。(mimetypeを指定しないとhtml形式で返される)\n",
    "    return Response(\"Hello World!\", mimetype=\"text/plain\")\n",
    "\n",
    "#　ローカルサーバーでアプリケーションを実行\n",
    "# app.run()\n",
    "# app.run(debug=False, host='0.0.0.0', port=5000)\n",
    "app.run(host='0.0.0.0', port=5000) # docker利用をするためには、外部接続するためにhost='0.0.0.0'が必要でportは5000番を空けておくこと。"
   ]
  },
  {
   "cell_type": "markdown",
   "metadata": {},
   "source": [
    "http://127.0.0.1:5000/hello"
   ]
  }
 ],
 "metadata": {
  "kernelspec": {
   "display_name": "Python 3",
   "language": "python",
   "name": "python3"
  },
  "language_info": {
   "codemirror_mode": {
    "name": "ipython",
    "version": 3
   },
   "file_extension": ".py",
   "mimetype": "text/x-python",
   "name": "python",
   "nbconvert_exporter": "python",
   "pygments_lexer": "ipython3",
   "version": "3.7.6"
  },
  "toc": {
   "base_numbering": 1,
   "nav_menu": {},
   "number_sections": true,
   "sideBar": true,
   "skip_h1_title": false,
   "title_cell": "Table of Contents",
   "title_sidebar": "Contents",
   "toc_cell": false,
   "toc_position": {},
   "toc_section_display": true,
   "toc_window_display": false
  }
 },
 "nbformat": 4,
 "nbformat_minor": 2
}
